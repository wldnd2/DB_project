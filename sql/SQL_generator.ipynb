{
 "cells": [
  {
   "cell_type": "code",
   "execution_count": null,
   "metadata": {},
   "outputs": [],
   "source": [
    "import openpyxl\n",
    "import numpy as np\n",
    "import pandas as pd"
   ]
  },
  {
   "cell_type": "code",
   "execution_count": null,
   "metadata": {},
   "outputs": [],
   "source": [
    "data = pd.read_excel(\"./2022-2_GSW_courses.xlsx\")\n",
    "temp = pd.DataFrame(data)\n",
    "temp.head(3)"
   ]
  },
  {
   "cell_type": "code",
   "execution_count": null,
   "metadata": {},
   "outputs": [],
   "source": [
    "# 교과목 정보\n",
    "course_info = temp[[\"CourseCode\",\"CourseName\", \"OpenYear\",\"Semester\",\"Type\", \"StudYear\", \"Credit\",\"Lecture\",\"Practice\"]]\n",
    "lecturer_info = temp[[\"CourseCode\",\"Lecturer\", \"CourseTime1\",\"CourseTime2\",\"LectureBuilding\", \"LectureRoom\",\"StudQuota\"]]\n",
    "student_info = pd.DataFrame({\n",
    "    \"StudentID\" : [],\n",
    "    \"CourseCode\" : [],\n",
    "    \"CourseName\" : [],\n",
    "    \"CourseType\" : [],\n",
    "    \"CourseCredits\" : [],\n",
    "})"
   ]
  },
  {
   "cell_type": "code",
   "execution_count": null,
   "metadata": {},
   "outputs": [],
   "source": [
    "# 수강정원이 최대 2명이다 보니 attribute에 현재 수강 인원도 추가해야할 듯\n",
    "course_info[[\"StudQuota\"]] = 0\n",
    "course_info.head()"
   ]
  },
  {
   "cell_type": "code",
   "execution_count": null,
   "metadata": {},
   "outputs": [],
   "source": [
    "# 과제 조건 : 수강 정원은 2명 (최대 2명이 들을 수 있다)\n",
    "# 수강 정원 변경\n",
    "lecturer_info[[\"StudQuota\"]] = lecturer_info[[\"StudQuota\"]]*0+2\n",
    "lecturer_info.rename(columns = {\"StudQuota\" : \"MaxStudQuota\"}, inplace=True)\n",
    "lecturer_info.head()"
   ]
  },
  {
   "cell_type": "code",
   "execution_count": null,
   "metadata": {},
   "outputs": [],
   "source": [
    "student_info"
   ]
  },
  {
   "cell_type": "code",
   "execution_count": null,
   "metadata": {},
   "outputs": [],
   "source": [
    "# lecturer sql 명령어 생성\n",
    "lecturer_info\n",
    "lecturer_info_sql = []\n",
    "for i in range(len(lecturer_info)):\n",
    "    temp = \"INSERT INTO LecturerInfo VALUES(\"\n",
    "    for j in range(len(lecturer_info.loc[i])-1):\n",
    "        temp += \"\\\"\" + str(lecturer_info.loc[i][j]) + \"\\\", \" \n",
    "    temp += str(lecturer_info.loc[i][-1]) + \");\\n\"\n",
    "    lecturer_info_sql.append(temp)\n",
    "\n",
    "lecturer_info_file = open(\"./lecturer.sql\", \"w\", encoding = \"utf-8\")\n",
    "for sql in lecturer_info_sql:\n",
    "    lecturer_info_file.write(sql)\n",
    "print(\"lecturer.sql Created successfully!\")"
   ]
  },
  {
   "cell_type": "code",
   "execution_count": null,
   "metadata": {},
   "outputs": [],
   "source": [
    "# course sql 명령어 생성\n",
    "course_info.head()\n",
    "course_info_sql = []\n",
    "for i in range(len(course_info)):\n",
    "    temp = \"INSERT INTO CourseInfo VALUES(\"\n",
    "    for j in range(5):\n",
    "            temp += \"\\\"\" + str(course_info.loc[i][j]) + \"\\\", \" \n",
    "    for k in range(5, 9):\n",
    "            temp += str(course_info.loc[i][k]) + \", \" \n",
    "    temp += str(course_info.loc[i][-1]) + \");\\n\"\n",
    "    course_info_sql.append(temp)\n",
    "\n",
    "course_info_file = open(\"./course.sql\", \"w\", encoding = \"utf-8\")\n",
    "for sql in course_info_sql:\n",
    "    course_info_file.write(sql)\n",
    "print(\"course.sql Created successfully!\")"
   ]
  }
 ],
 "metadata": {
  "kernelspec": {
   "display_name": "Python 3.10.8 64-bit (microsoft store)",
   "language": "python",
   "name": "python3"
  },
  "language_info": {
   "codemirror_mode": {
    "name": "ipython",
    "version": 3
   },
   "file_extension": ".py",
   "mimetype": "text/x-python",
   "name": "python",
   "nbconvert_exporter": "python",
   "pygments_lexer": "ipython3",
   "version": "3.10.8"
  },
  "orig_nbformat": 4,
  "vscode": {
   "interpreter": {
    "hash": "b3d78f468c14b8212791beed2d1ca799b294bb805db87ab5d6924330536474a1"
   }
  }
 },
 "nbformat": 4,
 "nbformat_minor": 2
}
